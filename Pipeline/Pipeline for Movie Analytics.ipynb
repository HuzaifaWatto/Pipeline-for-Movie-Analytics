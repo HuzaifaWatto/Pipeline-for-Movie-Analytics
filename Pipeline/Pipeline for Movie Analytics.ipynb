{
 "cells": [
  {
   "cell_type": "code",
   "execution_count": 1,
   "id": "ba9921d8",
   "metadata": {},
   "outputs": [],
   "source": [
    "# Step 1: Data Ingestion\n",
    "import pandas as pd\n",
    "import numpy as np\n",
    "\n",
    "n = 10000\n",
    "df = pd.DataFrame({\n",
    "    'MovieID': np.arange(n),\n",
    "    'Title': [f'Movie {i}' for i in range(n)],\n",
    "    'Genre': np.random.choice(['Drama', 'Comedy', 'Action', 'Horror'], size=n),\n",
    "    'ReleaseYear': np.random.randint(1980, 2024, size=n),\n",
    "    'Rating': np.round(np.random.normal(loc=6.5, scale=1.5, size=n), 1),\n",
    "    'Votes': np.random.randint(100, 100000, size=n),\n",
    "    'RevenueMillions': np.round(np.random.uniform(1, 300, size=n), 2)\n",
    "})\n",
    "\n"
   ]
  },
  {
   "cell_type": "code",
   "execution_count": 2,
   "id": "f24f1720",
   "metadata": {},
   "outputs": [
    {
     "name": "stderr",
     "output_type": "stream",
     "text": [
      "C:\\Users\\Huzaifa\\AppData\\Local\\Temp\\ipykernel_11088\\3128415425.py:6: FutureWarning: A value is trying to be set on a copy of a DataFrame or Series through chained assignment using an inplace method.\n",
      "The behavior will change in pandas 3.0. This inplace method will never work because the intermediate object on which we are setting values always behaves as a copy.\n",
      "\n",
      "For example, when doing 'df[col].method(value, inplace=True)', try using 'df.method({col: value}, inplace=True)' or df[col] = df[col].method(value) instead, to perform the operation inplace on the original object.\n",
      "\n",
      "\n",
      "  df['RevenueMillions'].fillna(df['RevenueMillions'].median(), inplace=True)\n"
     ]
    }
   ],
   "source": [
    "# Step 2: Data Cleaning\n",
    "# Add missing values for demo\n",
    "df.loc[np.random.choice(df.index, size=50), 'RevenueMillions'] = np.nan\n",
    "\n",
    "# Fill missing values\n",
    "df['RevenueMillions'].fillna(df['RevenueMillions'].median(), inplace=True)\n",
    "\n",
    "# Clip Rating values (assuming range is 0 to 10)\n",
    "df['Rating'] = df['Rating'].clip(0, 10)\n"
   ]
  },
  {
   "cell_type": "code",
   "execution_count": 3,
   "id": "4a97b220",
   "metadata": {},
   "outputs": [
    {
     "name": "stdout",
     "output_type": "stream",
     "text": [
      "Rows inserted: 10000\n"
     ]
    }
   ],
   "source": [
    "# Step 3: SQL Schema & Population\n",
    "import sqlite3\n",
    "\n",
    "# Connect to SQLite DB\n",
    "conn = sqlite3.connect('movies.db')\n",
    "cursor = conn.cursor()\n",
    "\n",
    "# Drop if exists\n",
    "cursor.execute(\"DROP TABLE IF EXISTS Movies\")\n",
    "\n",
    "# Create table\n",
    "cursor.execute('''\n",
    "CREATE TABLE Movies (\n",
    "    MovieID INTEGER PRIMARY KEY,\n",
    "    Title TEXT,\n",
    "    Genre TEXT,\n",
    "    ReleaseYear INTEGER,\n",
    "    Rating REAL,\n",
    "    Votes INTEGER,\n",
    "    RevenueMillions REAL\n",
    ")\n",
    "''')\n",
    "\n",
    "# Insert data\n",
    "df.to_sql('Movies', conn, if_exists='append', index=False)\n",
    "\n",
    "# Optional: Confirm row count\n",
    "print(\"Rows inserted:\", cursor.execute(\"SELECT COUNT(*) FROM Movies\").fetchone()[0])\n",
    "\n",
    "conn.commit()\n",
    "\n",
    "\n"
   ]
  }
 ],
 "metadata": {
  "kernelspec": {
   "display_name": "base",
   "language": "python",
   "name": "python3"
  },
  "language_info": {
   "codemirror_mode": {
    "name": "ipython",
    "version": 3
   },
   "file_extension": ".py",
   "mimetype": "text/x-python",
   "name": "python",
   "nbconvert_exporter": "python",
   "pygments_lexer": "ipython3",
   "version": "3.12.7"
  }
 },
 "nbformat": 4,
 "nbformat_minor": 5
}
